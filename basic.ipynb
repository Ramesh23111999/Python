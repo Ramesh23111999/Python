{
 "cells": [
  {
   "cell_type": "markdown",
   "metadata": {},
   "source": [
    "list function"
   ]
  },
  {
   "cell_type": "code",
   "execution_count": 1,
   "metadata": {},
   "outputs": [
    {
     "name": "stdout",
     "output_type": "stream",
     "text": [
      "['My name is Ramesh', 23, 'cumbum', 'me2', 11]\n",
      "My name is Ramesh\n",
      "me2\n",
      "cumbum\n"
     ]
    },
    {
     "data": {
      "text/plain": [
       "list"
      ]
     },
     "execution_count": 1,
     "metadata": {},
     "output_type": "execute_result"
    }
   ],
   "source": [
    "mylist=[\"My name is Ramesh\",23,\"cumbum\",'me2',11]\n",
    "print(mylist)\n",
    "print(mylist[0])\n",
    "print(mylist[-2])\n",
    "print(mylist[2])\n",
    "type(mylist)"
   ]
  },
  {
   "cell_type": "code",
   "execution_count": 2,
   "metadata": {},
   "outputs": [
    {
     "name": "stdout",
     "output_type": "stream",
     "text": [
      "['a', 'b', 'c', 'd', 'a', 500, 'c']\n",
      "c\n",
      "['c', 'd', 'a', 500, 'c']\n"
     ]
    }
   ],
   "source": [
    "a=[1,2,3,4,5]\n",
    "b=['a','b','c','d']\n",
    "c=['a',500,'c']\n",
    "print(b+c)\n",
    "d=a+b+c\n",
    "print(b[-2])\n",
    "print(d[-5:])"
   ]
  },
  {
   "cell_type": "code",
   "execution_count": 3,
   "metadata": {},
   "outputs": [
    {
     "data": {
      "text/plain": [
       "12"
      ]
     },
     "execution_count": 3,
     "metadata": {},
     "output_type": "execute_result"
    }
   ],
   "source": [
    "len(d)      "
   ]
  },
  {
   "cell_type": "code",
   "execution_count": 4,
   "metadata": {},
   "outputs": [
    {
     "name": "stdout",
     "output_type": "stream",
     "text": [
      "['My name is Ramesh', 23, 'cumbum', 'me2', 11]\n",
      "['My name is Ramesh', 23]\n"
     ]
    }
   ],
   "source": [
    "print(mylist)\n",
    "del(mylist[3])\n",
    "mylist.remove(mylist[2])\n",
    "mylist.pop(2)\n",
    "print(mylist)"
   ]
  },
  {
   "cell_type": "code",
   "execution_count": 5,
   "metadata": {},
   "outputs": [
    {
     "data": {
      "text/plain": [
       "False"
      ]
     },
     "execution_count": 5,
     "metadata": {},
     "output_type": "execute_result"
    }
   ],
   "source": [
    "23 not in mylist"
   ]
  },
  {
   "cell_type": "code",
   "execution_count": 6,
   "metadata": {},
   "outputs": [
    {
     "name": "stdout",
     "output_type": "stream",
     "text": [
      "max is 9\n",
      "min is 1\n",
      "[1, 2, 3, 4, 5, 6, 7, 8, 9, [10, 11, 12, 13, 14, 'theni']]\n",
      "[1, 2, 3, 4, 5, 6, 7, 8, 9, [10, 11, 12, 13, 14, 'theni'], 0]\n"
     ]
    }
   ],
   "source": [
    "list=[1,2,3,4,5,6,7,8,9]\n",
    "print(\"max is\",max(list))\n",
    "print(\"min is\",min(list))\n",
    "list.append([10,11,12,13,14,'theni'])\n",
    "print(list)\n",
    "list.insert(12,0)\n",
    "print(list)\n",
    "\n"
   ]
  },
  {
   "cell_type": "code",
   "execution_count": 7,
   "metadata": {},
   "outputs": [
    {
     "data": {
      "text/plain": [
       "[1, 2, 3, 4, 5, 6, 7, 8, 9]"
      ]
     },
     "execution_count": 7,
     "metadata": {},
     "output_type": "execute_result"
    }
   ],
   "source": [
    "del list[-2:]\n",
    "list\n"
   ]
  },
  {
   "cell_type": "code",
   "execution_count": 8,
   "metadata": {},
   "outputs": [
    {
     "data": {
      "text/plain": [
       "[0, 1, 2, 4, 5, 6, 9]"
      ]
     },
     "execution_count": 8,
     "metadata": {},
     "output_type": "execute_result"
    }
   ],
   "source": [
    "l1=[4,9,2,5,0,1,6]\n",
    "l1.sort()\n",
    "l1"
   ]
  },
  {
   "cell_type": "code",
   "execution_count": 9,
   "metadata": {},
   "outputs": [
    {
     "data": {
      "text/plain": [
       "[0, 1, 2, 4, 3, 6, 9]"
      ]
     },
     "execution_count": 9,
     "metadata": {},
     "output_type": "execute_result"
    }
   ],
   "source": [
    "l1[4]=3\n",
    "l1"
   ]
  },
  {
   "cell_type": "code",
   "execution_count": 10,
   "metadata": {},
   "outputs": [
    {
     "data": {
      "text/plain": [
       "{'k': 3, 'n': 9, 'e': 7}"
      ]
     },
     "execution_count": 10,
     "metadata": {},
     "output_type": "execute_result"
    }
   ],
   "source": [
    "l2={\"k\":3,\"n\":5,\"e\":7,\"n\":9}\n",
    "l2"
   ]
  },
  {
   "cell_type": "code",
   "execution_count": 11,
   "metadata": {},
   "outputs": [
    {
     "name": "stdout",
     "output_type": "stream",
     "text": [
      "hi\tRamya\twelcome to my home\n",
      "hi\tSps\twelcome to my home\n",
      "hi\tSindhu\twelcome to my home\n"
     ]
    }
   ],
   "source": [
    "for name in [\"Ramya\",\"Sps\",\"Sindhu\"]:\n",
    "    n=\"hi\\t\"+name+\"\\twelcome to my home\"\n",
    "    print(n)"
   ]
  },
  {
   "cell_type": "markdown",
   "metadata": {},
   "source": [
    "half pyramid numbers\n"
   ]
  },
  {
   "cell_type": "code",
   "execution_count": 12,
   "metadata": {},
   "outputs": [
    {
     "name": "stdout",
     "output_type": "stream",
     "text": [
      "1\n",
      "12\n",
      "123\n",
      "1234\n",
      "12345\n"
     ]
    }
   ],
   "source": [
    "for i in range(5):\n",
    "    for j in range(i+1):\n",
    "        print(j+1,end=\"\")\n",
    "    print()"
   ]
  },
  {
   "cell_type": "markdown",
   "metadata": {},
   "source": [
    "half pyramid characters"
   ]
  },
  {
   "cell_type": "code",
   "execution_count": 12,
   "metadata": {},
   "outputs": [
    {
     "ename": "KeyboardInterrupt",
     "evalue": "",
     "output_type": "error",
     "traceback": [
      "\u001b[1;31m---------------------------------------------------------------------------\u001b[0m",
      "\u001b[1;31mKeyboardInterrupt\u001b[0m                         Traceback (most recent call last)",
      "File \u001b[1;32m~\\AppData\\Roaming\\Python\\Python310\\site-packages\\IPython\\core\\async_helpers.py:129\u001b[0m, in \u001b[0;36m_pseudo_sync_runner\u001b[1;34m(coro)\u001b[0m\n\u001b[0;32m    <a href='file:///c%3A/Users/ELCOT/AppData/Roaming/Python/Python310/site-packages/IPython/core/async_helpers.py?line=120'>121</a>\u001b[0m \u001b[39m\"\"\"\u001b[39;00m\n\u001b[0;32m    <a href='file:///c%3A/Users/ELCOT/AppData/Roaming/Python/Python310/site-packages/IPython/core/async_helpers.py?line=121'>122</a>\u001b[0m \u001b[39mA runner that does not really allow async execution, and just advance the coroutine.\u001b[39;00m\n\u001b[0;32m    <a href='file:///c%3A/Users/ELCOT/AppData/Roaming/Python/Python310/site-packages/IPython/core/async_helpers.py?line=122'>123</a>\u001b[0m \n\u001b[1;32m   (...)\u001b[0m\n\u001b[0;32m    <a href='file:///c%3A/Users/ELCOT/AppData/Roaming/Python/Python310/site-packages/IPython/core/async_helpers.py?line=125'>126</a>\u001b[0m \u001b[39mCredit to Nathaniel Smith\u001b[39;00m\n\u001b[0;32m    <a href='file:///c%3A/Users/ELCOT/AppData/Roaming/Python/Python310/site-packages/IPython/core/async_helpers.py?line=126'>127</a>\u001b[0m \u001b[39m\"\"\"\u001b[39;00m\n\u001b[0;32m    <a href='file:///c%3A/Users/ELCOT/AppData/Roaming/Python/Python310/site-packages/IPython/core/async_helpers.py?line=127'>128</a>\u001b[0m \u001b[39mtry\u001b[39;00m:\n\u001b[1;32m--> <a href='file:///c%3A/Users/ELCOT/AppData/Roaming/Python/Python310/site-packages/IPython/core/async_helpers.py?line=128'>129</a>\u001b[0m     coro\u001b[39m.\u001b[39;49msend(\u001b[39mNone\u001b[39;49;00m)\n\u001b[0;32m    <a href='file:///c%3A/Users/ELCOT/AppData/Roaming/Python/Python310/site-packages/IPython/core/async_helpers.py?line=129'>130</a>\u001b[0m \u001b[39mexcept\u001b[39;00m \u001b[39mStopIteration\u001b[39;00m \u001b[39mas\u001b[39;00m exc:\n\u001b[0;32m    <a href='file:///c%3A/Users/ELCOT/AppData/Roaming/Python/Python310/site-packages/IPython/core/async_helpers.py?line=130'>131</a>\u001b[0m     \u001b[39mreturn\u001b[39;00m exc\u001b[39m.\u001b[39mvalue\n",
      "File \u001b[1;32m~\\AppData\\Roaming\\Python\\Python310\\site-packages\\IPython\\core\\interactiveshell.py:3066\u001b[0m, in \u001b[0;36mInteractiveShell.run_cell_async\u001b[1;34m(self, raw_cell, store_history, silent, shell_futures, transformed_cell, preprocessing_exc_tuple)\u001b[0m\n\u001b[0;32m   <a href='file:///c%3A/Users/ELCOT/AppData/Roaming/Python/Python310/site-packages/IPython/core/interactiveshell.py?line=3062'>3063</a>\u001b[0m _run_async \u001b[39m=\u001b[39m \u001b[39mFalse\u001b[39;00m\n\u001b[0;32m   <a href='file:///c%3A/Users/ELCOT/AppData/Roaming/Python/Python310/site-packages/IPython/core/interactiveshell.py?line=3064'>3065</a>\u001b[0m \u001b[39mwith\u001b[39;00m \u001b[39mself\u001b[39m\u001b[39m.\u001b[39mbuiltin_trap:\n\u001b[1;32m-> <a href='file:///c%3A/Users/ELCOT/AppData/Roaming/Python/Python310/site-packages/IPython/core/interactiveshell.py?line=3065'>3066</a>\u001b[0m     cell_name \u001b[39m=\u001b[39m compiler\u001b[39m.\u001b[39;49mcache(cell, \u001b[39mself\u001b[39;49m\u001b[39m.\u001b[39;49mexecution_count, raw_code\u001b[39m=\u001b[39;49mraw_cell)\n\u001b[0;32m   <a href='file:///c%3A/Users/ELCOT/AppData/Roaming/Python/Python310/site-packages/IPython/core/interactiveshell.py?line=3067'>3068</a>\u001b[0m     \u001b[39mwith\u001b[39;00m \u001b[39mself\u001b[39m\u001b[39m.\u001b[39mdisplay_trap:\n\u001b[0;32m   <a href='file:///c%3A/Users/ELCOT/AppData/Roaming/Python/Python310/site-packages/IPython/core/interactiveshell.py?line=3068'>3069</a>\u001b[0m         \u001b[39m# Compile to bytecode\u001b[39;00m\n\u001b[0;32m   <a href='file:///c%3A/Users/ELCOT/AppData/Roaming/Python/Python310/site-packages/IPython/core/interactiveshell.py?line=3069'>3070</a>\u001b[0m         \u001b[39mtry\u001b[39;00m:\n",
      "File \u001b[1;32m~\\AppData\\Roaming\\Python\\Python310\\site-packages\\IPython\\core\\compilerop.py:159\u001b[0m, in \u001b[0;36mCachingCompiler.cache\u001b[1;34m(self, transformed_code, number, raw_code)\u001b[0m\n\u001b[0;32m    <a href='file:///c%3A/Users/ELCOT/AppData/Roaming/Python/Python310/site-packages/IPython/core/compilerop.py?line=155'>156</a>\u001b[0m \u001b[39mif\u001b[39;00m raw_code \u001b[39mis\u001b[39;00m \u001b[39mNone\u001b[39;00m:\n\u001b[0;32m    <a href='file:///c%3A/Users/ELCOT/AppData/Roaming/Python/Python310/site-packages/IPython/core/compilerop.py?line=156'>157</a>\u001b[0m     raw_code \u001b[39m=\u001b[39m transformed_code\n\u001b[1;32m--> <a href='file:///c%3A/Users/ELCOT/AppData/Roaming/Python/Python310/site-packages/IPython/core/compilerop.py?line=158'>159</a>\u001b[0m name \u001b[39m=\u001b[39m \u001b[39mself\u001b[39;49m\u001b[39m.\u001b[39;49mget_code_name(raw_code, transformed_code, number)\n\u001b[0;32m    <a href='file:///c%3A/Users/ELCOT/AppData/Roaming/Python/Python310/site-packages/IPython/core/compilerop.py?line=160'>161</a>\u001b[0m \u001b[39m# Save the execution count\u001b[39;00m\n\u001b[0;32m    <a href='file:///c%3A/Users/ELCOT/AppData/Roaming/Python/Python310/site-packages/IPython/core/compilerop.py?line=161'>162</a>\u001b[0m \u001b[39mself\u001b[39m\u001b[39m.\u001b[39m_filename_map[name] \u001b[39m=\u001b[39m number\n",
      "File \u001b[1;32m~\\AppData\\Roaming\\Python\\Python310\\site-packages\\ipykernel\\compiler.py:91\u001b[0m, in \u001b[0;36mXCachingCompiler.get_code_name\u001b[1;34m(self, raw_code, code, number)\u001b[0m\n\u001b[0;32m     <a href='file:///c%3A/Users/ELCOT/AppData/Roaming/Python/Python310/site-packages/ipykernel/compiler.py?line=89'>90</a>\u001b[0m \u001b[39mdef\u001b[39;00m \u001b[39mget_code_name\u001b[39m(\u001b[39mself\u001b[39m, raw_code, code, number):\n\u001b[1;32m---> <a href='file:///c%3A/Users/ELCOT/AppData/Roaming/Python/Python310/site-packages/ipykernel/compiler.py?line=90'>91</a>\u001b[0m     \u001b[39mreturn\u001b[39;00m get_file_name(raw_code)\n",
      "File \u001b[1;32m~\\AppData\\Roaming\\Python\\Python310\\site-packages\\ipykernel\\compiler.py:80\u001b[0m, in \u001b[0;36mget_file_name\u001b[1;34m(code)\u001b[0m\n\u001b[0;32m     <a href='file:///c%3A/Users/ELCOT/AppData/Roaming/Python/Python310/site-packages/ipykernel/compiler.py?line=77'>78</a>\u001b[0m \u001b[39mif\u001b[39;00m cell_name \u001b[39mis\u001b[39;00m \u001b[39mNone\u001b[39;00m:\n\u001b[0;32m     <a href='file:///c%3A/Users/ELCOT/AppData/Roaming/Python/Python310/site-packages/ipykernel/compiler.py?line=78'>79</a>\u001b[0m     name \u001b[39m=\u001b[39m murmur2_x86(code, get_tmp_hash_seed())\n\u001b[1;32m---> <a href='file:///c%3A/Users/ELCOT/AppData/Roaming/Python/Python310/site-packages/ipykernel/compiler.py?line=79'>80</a>\u001b[0m     cell_name \u001b[39m=\u001b[39m get_tmp_directory() \u001b[39m+\u001b[39m os\u001b[39m.\u001b[39msep \u001b[39m+\u001b[39m \u001b[39mstr\u001b[39m(name) \u001b[39m+\u001b[39m \u001b[39m'\u001b[39m\u001b[39m.py\u001b[39m\u001b[39m'\u001b[39m\n\u001b[0;32m     <a href='file:///c%3A/Users/ELCOT/AppData/Roaming/Python/Python310/site-packages/ipykernel/compiler.py?line=80'>81</a>\u001b[0m \u001b[39mreturn\u001b[39;00m cell_name\n",
      "File \u001b[1;32m~\\AppData\\Roaming\\Python\\Python310\\site-packages\\ipykernel\\compiler.py:66\u001b[0m, in \u001b[0;36mget_tmp_directory\u001b[1;34m()\u001b[0m\n\u001b[0;32m     <a href='file:///c%3A/Users/ELCOT/AppData/Roaming/Python/Python310/site-packages/ipykernel/compiler.py?line=64'>65</a>\u001b[0m \u001b[39mdef\u001b[39;00m \u001b[39mget_tmp_directory\u001b[39m():\n\u001b[1;32m---> <a href='file:///c%3A/Users/ELCOT/AppData/Roaming/Python/Python310/site-packages/ipykernel/compiler.py?line=65'>66</a>\u001b[0m     tmp_dir \u001b[39m=\u001b[39m convert_to_long_pathname(tempfile\u001b[39m.\u001b[39;49mgettempdir())\n\u001b[0;32m     <a href='file:///c%3A/Users/ELCOT/AppData/Roaming/Python/Python310/site-packages/ipykernel/compiler.py?line=66'>67</a>\u001b[0m     pid \u001b[39m=\u001b[39m os\u001b[39m.\u001b[39mgetpid()\n\u001b[0;32m     <a href='file:///c%3A/Users/ELCOT/AppData/Roaming/Python/Python310/site-packages/ipykernel/compiler.py?line=67'>68</a>\u001b[0m     \u001b[39mreturn\u001b[39;00m tmp_dir \u001b[39m+\u001b[39m os\u001b[39m.\u001b[39msep \u001b[39m+\u001b[39m \u001b[39m'\u001b[39m\u001b[39mipykernel_\u001b[39m\u001b[39m'\u001b[39m \u001b[39m+\u001b[39m \u001b[39mstr\u001b[39m(pid)\n",
      "File \u001b[1;32m~\\AppData\\Roaming\\Python\\Python310\\site-packages\\ipykernel\\compiler.py:53\u001b[0m, in \u001b[0;36m_convert_to_long_pathname\u001b[1;34m(filename)\u001b[0m\n\u001b[0;32m     <a href='file:///c%3A/Users/ELCOT/AppData/Roaming/Python/Python310/site-packages/ipykernel/compiler.py?line=50'>51</a>\u001b[0m \u001b[39mdef\u001b[39;00m \u001b[39m_convert_to_long_pathname\u001b[39m(filename):\n\u001b[0;32m     <a href='file:///c%3A/Users/ELCOT/AppData/Roaming/Python/Python310/site-packages/ipykernel/compiler.py?line=51'>52</a>\u001b[0m     buf \u001b[39m=\u001b[39m ctypes\u001b[39m.\u001b[39mcreate_unicode_buffer(MAX_PATH)\n\u001b[1;32m---> <a href='file:///c%3A/Users/ELCOT/AppData/Roaming/Python/Python310/site-packages/ipykernel/compiler.py?line=52'>53</a>\u001b[0m     rv \u001b[39m=\u001b[39m _GetLongPathName(filename, buf, MAX_PATH)\n\u001b[0;32m     <a href='file:///c%3A/Users/ELCOT/AppData/Roaming/Python/Python310/site-packages/ipykernel/compiler.py?line=53'>54</a>\u001b[0m     \u001b[39mif\u001b[39;00m rv \u001b[39m!=\u001b[39m \u001b[39m0\u001b[39m \u001b[39mand\u001b[39;00m rv \u001b[39m<\u001b[39m\u001b[39m=\u001b[39m MAX_PATH:\n\u001b[0;32m     <a href='file:///c%3A/Users/ELCOT/AppData/Roaming/Python/Python310/site-packages/ipykernel/compiler.py?line=54'>55</a>\u001b[0m         filename \u001b[39m=\u001b[39m buf\u001b[39m.\u001b[39mvalue\n",
      "\u001b[1;31mKeyboardInterrupt\u001b[0m: "
     ]
    }
   ],
   "source": [
    "a=int(input(\"Enter the number of rows:\"))\n",
    "ascii_value=65\n",
    "for i in range(a):\n",
    "    for j in range(i+1):\n",
    "        value1=chr(ascii_value)\n",
    "        print(value1,end=\"\")\n",
    "    ascii_value+=1\n",
    "    print()"
   ]
  },
  {
   "cell_type": "markdown",
   "metadata": {},
   "source": [
    "half pyramid"
   ]
  },
  {
   "cell_type": "code",
   "execution_count": null,
   "metadata": {},
   "outputs": [
    {
     "name": "stdout",
     "output_type": "stream",
     "text": [
      "*\t\n",
      "\n",
      "*\t*\t\n",
      "\n",
      "*\t*\t*\t\n",
      "\n",
      "*\t*\t*\t*\t\n",
      "\n",
      "*\t*\t*\t*\t*\t\n",
      "\n",
      "*\t*\t*\t*\t*\t*\t\n",
      "\n",
      "*\t*\t*\t*\t*\t*\t*\t\n",
      "\n"
     ]
    }
   ],
   "source": [
    "a=int(input(\" Enter the number of rows:\"))\n",
    "for i in range(a):\n",
    "    for j in range(i+1):\n",
    "        print(\"*\\t\",end=\"\")\n",
    "    print(\"\\n\")"
   ]
  },
  {
   "cell_type": "markdown",
   "metadata": {},
   "source": [
    "invert half pyramid"
   ]
  },
  {
   "cell_type": "code",
   "execution_count": null,
   "metadata": {},
   "outputs": [
    {
     "name": "stdout",
     "output_type": "stream",
     "text": [
      "*\t*\t*\t*\t*\t*\t\n",
      "\n",
      "*\t*\t*\t*\t*\t\n",
      "\n",
      "*\t*\t*\t*\t\n",
      "\n",
      "*\t*\t*\t\n",
      "\n",
      "*\t*\t\n",
      "\n",
      "*\t\n",
      "\n"
     ]
    }
   ],
   "source": [
    "a=int(input(\"Enetr the number of rows:\"))\n",
    "for i in range(a,0,-1):\n",
    "    for j in range(0,i):\n",
    "        print(\"*\\t\",end=\"\")\n",
    "    print(\"\\n\")"
   ]
  },
  {
   "cell_type": "markdown",
   "metadata": {},
   "source": [
    "full pyramid"
   ]
  },
  {
   "cell_type": "code",
   "execution_count": 22,
   "metadata": {},
   "outputs": [
    {
     "name": "stdout",
     "output_type": "stream",
     "text": [
      "  * \n",
      " * * * \n",
      "* * * * * \n"
     ]
    }
   ],
   "source": [
    "a=int(input(\"entr the number of rows:\"))\n",
    "k=0\n",
    "for i in range(1,a+1):\n",
    "    for space in range(1,(a-i)+1):\n",
    "        print(end=\" \")\n",
    "    while k!=(2*i-1):\n",
    "        print(\"* \",end=\"\")\n",
    "        k+=1\n",
    "    k=0\n",
    "    print()"
   ]
  },
  {
   "cell_type": "markdown",
   "metadata": {},
   "source": [
    "full pyramid numbers"
   ]
  },
  {
   "cell_type": "code",
   "execution_count": 23,
   "metadata": {},
   "outputs": [
    {
     "name": "stdout",
     "output_type": "stream",
     "text": [
      "    1\n",
      "   232\n",
      "  34543\n",
      " 4567654\n",
      "567898765\n"
     ]
    }
   ],
   "source": [
    "a=int(input(\"enter the number of rows:\"))\n",
    "k=0\n",
    "count=0\n",
    "count1=0\n",
    "for i in range(1,a+1):\n",
    "    for space in range(1,(a-i)+1):\n",
    "        print(\" \",end=\"\")\n",
    "        count+=1\n",
    "    while k!=(2*i-1):\n",
    "        if count<=a-1:\n",
    "            print(i+k,end=\"\")\n",
    "            count+=1\n",
    "        else:\n",
    "            count1+=1\n",
    "            print(i+k-(2*count1),end=\"\")\n",
    "        k+=1\n",
    "    count=count1=k=0\n",
    "    print()"
   ]
  },
  {
   "cell_type": "markdown",
   "metadata": {},
   "source": [
    "invert full pyramid"
   ]
  },
  {
   "cell_type": "code",
   "execution_count": 28,
   "metadata": {},
   "outputs": [
    {
     "name": "stdout",
     "output_type": "stream",
     "text": [
      "    * * * * * * * \n",
      "    * * * * * \n",
      "    * * * \n",
      "    * \n"
     ]
    }
   ],
   "source": [
    "a=int(input(\"enter the number of rows:\"))\n",
    "\n",
    "for i in range(a,1,-1):\n",
    "    for space in range(0,a-1):\n",
    "        print(\" \",end=\"\")\n",
    "    for j in range(i,2*i-1):\n",
    "        print(\"* \",end=\"\")\n",
    "    for j in range(1,i-1):\n",
    "        print(\"* \",end=\"\")\n",
    "    print()"
   ]
  }
 ],
 "metadata": {
  "interpreter": {
   "hash": "695a388a4c2e020e22268ccf38be8173707e8975f5964aead99e22ad28ea09a9"
  },
  "kernelspec": {
   "display_name": "Python 3.10.3 64-bit",
   "language": "python",
   "name": "python3"
  },
  "language_info": {
   "codemirror_mode": {
    "name": "ipython",
    "version": 3
   },
   "file_extension": ".py",
   "mimetype": "text/x-python",
   "name": "python",
   "nbconvert_exporter": "python",
   "pygments_lexer": "ipython3",
   "version": "3.10.3"
  },
  "orig_nbformat": 4
 },
 "nbformat": 4,
 "nbformat_minor": 2
}

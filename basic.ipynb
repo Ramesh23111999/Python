{
 "cells": [
  {
   "attachments": {},
   "cell_type": "markdown",
   "metadata": {},
   "source": [
    "list function"
   ]
  },
  {
   "cell_type": "code",
   "execution_count": 8,
   "metadata": {},
   "outputs": [
    {
     "name": "stdout",
     "output_type": "stream",
     "text": [
      "['My name is Ramesh', 23, 'cumbum', 'me2', 11]\n",
      "My name is Ramesh\n",
      "me2\n",
      "cumbum\n"
     ]
    },
    {
     "data": {
      "text/plain": [
       "list"
      ]
     },
     "execution_count": 8,
     "metadata": {},
     "output_type": "execute_result"
    }
   ],
   "source": [
    "mylist=[\"My name is Ramesh\",23,\"cumbum\",'me2',11]\n",
    "print(mylist)\n",
    "print(mylist[0])\n",
    "print(mylist[-2])\n",
    "print(mylist[2])\n",
    "type(mylist)"
   ]
  },
  {
   "cell_type": "code",
   "execution_count": 9,
   "metadata": {},
   "outputs": [
    {
     "name": "stdout",
     "output_type": "stream",
     "text": [
      "['a', 'b', 'c', 'd', 'a', 500, 'c']\n",
      "c\n",
      "['c', 'd', 'a', 500, 'c']\n"
     ]
    }
   ],
   "source": [
    "a=[1,2,3,4,5]\n",
    "b=['a','b','c','d']\n",
    "c=['a',500,'c']\n",
    "print(b+c)\n",
    "d=a+b+c\n",
    "print(b[-2])\n",
    "print(d[-5:])"
   ]
  },
  {
   "cell_type": "code",
   "execution_count": 10,
   "metadata": {},
   "outputs": [
    {
     "data": {
      "text/plain": [
       "12"
      ]
     },
     "execution_count": 10,
     "metadata": {},
     "output_type": "execute_result"
    }
   ],
   "source": [
    "len(d)      "
   ]
  },
  {
   "cell_type": "code",
   "execution_count": 11,
   "metadata": {},
   "outputs": [
    {
     "name": "stdout",
     "output_type": "stream",
     "text": [
      "['My name is Ramesh', 23, 'cumbum', 'me2', 11]\n",
      "['My name is Ramesh', 23]\n"
     ]
    }
   ],
   "source": [
    "print(mylist)\n",
    "del(mylist[3])\n",
    "mylist.remove(mylist[2])\n",
    "mylist.pop(2)\n",
    "print(mylist)"
   ]
  },
  {
   "cell_type": "code",
   "execution_count": 12,
   "metadata": {},
   "outputs": [
    {
     "data": {
      "text/plain": [
       "False"
      ]
     },
     "execution_count": 12,
     "metadata": {},
     "output_type": "execute_result"
    }
   ],
   "source": [
    "23 not in mylist"
   ]
  },
  {
   "cell_type": "code",
   "execution_count": 32,
   "metadata": {},
   "outputs": [
    {
     "name": "stdout",
     "output_type": "stream",
     "text": [
      "max is 9\n",
      "min is 1\n",
      "[1, 2, 3, 4, 5, 6, 7, 8, 9, [10, 11, 12, 13, 14, 'theni']]\n",
      "[1, 2, 3, 4, 5, 6, 7, 8, 9, [10, 11, 12, 13, 14, 'theni'], 9]\n"
     ]
    }
   ],
   "source": [
    "list=[1,2,3,4,5,6,7,8,9]\n",
    "print(\"max is\",max(list))\n",
    "print(\"min is\",min(list))\n",
    "list.append([10,11,12,13,14,'theni'])\n",
    "print(list)\n",
    "list.insert(120,9)\n",
    "print(list)\n",
    "\n"
   ]
  },
  {
   "cell_type": "code",
   "execution_count": 33,
   "metadata": {},
   "outputs": [
    {
     "data": {
      "text/plain": [
       "[1, 2, 3, 4, 5, 6, 7, 8, 9]"
      ]
     },
     "execution_count": 33,
     "metadata": {},
     "output_type": "execute_result"
    }
   ],
   "source": [
    "del list[-2:]\n",
    "list\n"
   ]
  },
  {
   "cell_type": "code",
   "execution_count": 15,
   "metadata": {},
   "outputs": [
    {
     "data": {
      "text/plain": [
       "[0, 1, 2, 4, 5, 6, 9]"
      ]
     },
     "execution_count": 15,
     "metadata": {},
     "output_type": "execute_result"
    }
   ],
   "source": [
    "l1=[4,9,2,5,0,1,6]\n",
    "l1.sort()\n",
    "l1"
   ]
  },
  {
   "cell_type": "code",
   "execution_count": 16,
   "metadata": {},
   "outputs": [
    {
     "data": {
      "text/plain": [
       "[0, 1, 2, 4, 3, 6, 9]"
      ]
     },
     "execution_count": 16,
     "metadata": {},
     "output_type": "execute_result"
    }
   ],
   "source": [
    "l1[4]=3\n",
    "l1"
   ]
  },
  {
   "cell_type": "code",
   "execution_count": 17,
   "metadata": {},
   "outputs": [
    {
     "data": {
      "text/plain": [
       "{'k': 3, 'n': 9, 'e': 7}"
      ]
     },
     "execution_count": 17,
     "metadata": {},
     "output_type": "execute_result"
    }
   ],
   "source": [
    "l2={\"k\":3,\"n\":5,\"e\":7,\"n\":9}\n",
    "l2"
   ]
  },
  {
   "cell_type": "code",
   "execution_count": 18,
   "metadata": {},
   "outputs": [
    {
     "name": "stdout",
     "output_type": "stream",
     "text": [
      "hi\tRamya\twelcome to my home\n",
      "hi\tSps\twelcome to my home\n",
      "hi\tSindhu\twelcome to my home\n"
     ]
    }
   ],
   "source": [
    "for name in [\"Ramya\",\"Sps\",\"Sindhu\"]:\n",
    "    n=\"hi\\t\"+name+\"\\twelcome to my home\"\n",
    "    print(n)"
   ]
  },
  {
   "attachments": {},
   "cell_type": "markdown",
   "metadata": {},
   "source": [
    "half pyramid numbers\n"
   ]
  },
  {
   "cell_type": "code",
   "execution_count": 36,
   "metadata": {},
   "outputs": [
    {
     "name": "stdout",
     "output_type": "stream",
     "text": [
      "1 \n",
      "1 2 \n",
      "1 2 3 \n",
      "1 2 3 4 \n",
      "1 2 3 4 5 \n"
     ]
    }
   ],
   "source": [
    "for i in range(5):\n",
    "    for j in range(i+1):\n",
    "        print(j+1,end=\"\")\n",
    "    print()"
   ]
  },
  {
   "attachments": {},
   "cell_type": "markdown",
   "metadata": {},
   "source": [
    "half pyramid characters"
   ]
  },
  {
   "cell_type": "code",
   "execution_count": 34,
   "metadata": {},
   "outputs": [
    {
     "name": "stdout",
     "output_type": "stream",
     "text": [
      "A\n",
      "BB\n",
      "CCC\n",
      "DDDD\n",
      "EEEEE\n"
     ]
    }
   ],
   "source": [
    "a=int(input(\"Enter the number of rows:\"))\n",
    "ascii_value=65\n",
    "for i in range(a):\n",
    "    for j in range(i+1):\n",
    "        value1=chr(ascii_value)\n",
    "        print(value1,end=\"\")\n",
    "    ascii_value+=1\n",
    "    print()"
   ]
  },
  {
   "attachments": {},
   "cell_type": "markdown",
   "metadata": {},
   "source": [
    "half pyramid"
   ]
  },
  {
   "cell_type": "code",
   "execution_count": null,
   "metadata": {},
   "outputs": [
    {
     "name": "stdout",
     "output_type": "stream",
     "text": [
      "*\t\n",
      "\n",
      "*\t*\t\n",
      "\n",
      "*\t*\t*\t\n",
      "\n",
      "*\t*\t*\t*\t\n",
      "\n",
      "*\t*\t*\t*\t*\t\n",
      "\n",
      "*\t*\t*\t*\t*\t*\t\n",
      "\n",
      "*\t*\t*\t*\t*\t*\t*\t\n",
      "\n"
     ]
    }
   ],
   "source": [
    "a=int(input(\" Enter the number of rows:\"))\n",
    "for i in range(a):\n",
    "    for j in range(i+1):\n",
    "        print(\"*\\t\",end=\"\")\n",
    "    print(\"\\n\")"
   ]
  },
  {
   "attachments": {},
   "cell_type": "markdown",
   "metadata": {},
   "source": [
    "invert half pyramid"
   ]
  },
  {
   "cell_type": "code",
   "execution_count": null,
   "metadata": {},
   "outputs": [
    {
     "name": "stdout",
     "output_type": "stream",
     "text": [
      "*\t*\t*\t*\t*\t*\t\n",
      "\n",
      "*\t*\t*\t*\t*\t\n",
      "\n",
      "*\t*\t*\t*\t\n",
      "\n",
      "*\t*\t*\t\n",
      "\n",
      "*\t*\t\n",
      "\n",
      "*\t\n",
      "\n"
     ]
    }
   ],
   "source": [
    "a=int(input(\"Enetr the number of rows:\"))\n",
    "for i in range(a,0,-1):\n",
    "    for j in range(0,i):\n",
    "        print(\"*\\t\",end=\"\")\n",
    "    print(\"\\n\")"
   ]
  },
  {
   "attachments": {},
   "cell_type": "markdown",
   "metadata": {},
   "source": [
    "full pyramid"
   ]
  },
  {
   "cell_type": "code",
   "execution_count": null,
   "metadata": {},
   "outputs": [
    {
     "name": "stdout",
     "output_type": "stream",
     "text": [
      "  * \n",
      " * * * \n",
      "* * * * * \n"
     ]
    }
   ],
   "source": [
    "a=int(input(\"entr the number of rows:\"))\n",
    "k=0\n",
    "for i in range(1,a+1):\n",
    "    for space in range(1,(a-i)+1):\n",
    "        print(end=\" \")\n",
    "    while k!=(2*i-1):\n",
    "        print(\"* \",end=\"\")\n",
    "        k+=1\n",
    "    k=0\n",
    "    print()"
   ]
  },
  {
   "attachments": {},
   "cell_type": "markdown",
   "metadata": {},
   "source": [
    "full pyramid numbers"
   ]
  },
  {
   "cell_type": "code",
   "execution_count": null,
   "metadata": {},
   "outputs": [
    {
     "name": "stdout",
     "output_type": "stream",
     "text": [
      "    1\n",
      "   232\n",
      "  34543\n",
      " 4567654\n",
      "567898765\n"
     ]
    }
   ],
   "source": [
    "a=int(input(\"enter the number of rows:\"))\n",
    "k=0\n",
    "count=0\n",
    "count1=0\n",
    "for i in range(1,a+1):\n",
    "    for space in range(1,(a-i)+1):\n",
    "        print(\" \",end=\"\")\n",
    "        count+=1\n",
    "    while k!=(2*i-1):\n",
    "        if count<=a-1:\n",
    "            print(i+k,end=\"\")\n",
    "            count+=1\n",
    "        else:\n",
    "            count1+=1\n",
    "            print(i+k-(2*count1),end=\"\")\n",
    "        k+=1\n",
    "    count=count1=k=0\n",
    "    print()"
   ]
  },
  {
   "attachments": {},
   "cell_type": "markdown",
   "metadata": {},
   "source": [
    "invert full pyramid"
   ]
  },
  {
   "cell_type": "code",
   "execution_count": null,
   "metadata": {},
   "outputs": [
    {
     "name": "stdout",
     "output_type": "stream",
     "text": [
      "    * * * * * * * \n",
      "    * * * * * \n",
      "    * * * \n",
      "    * \n"
     ]
    }
   ],
   "source": [
    "a=int(input(\"enter the number of rows:\"))\n",
    "\n",
    "for i in range(a,1,-1):\n",
    "    for space in range(0,a-1):\n",
    "        print(\" \",end=\"\")\n",
    "    for j in range(i,2*i-1):\n",
    "        print(\"* \",end=\"\")\n",
    "    for j in range(1,i-1):\n",
    "        print(\"* \",end=\"\")\n",
    "    print()"
   ]
  }
 ],
 "metadata": {
  "interpreter": {
   "hash": "695a388a4c2e020e22268ccf38be8173707e8975f5964aead99e22ad28ea09a9"
  },
  "kernelspec": {
   "display_name": "Python 3.10.3 64-bit",
   "language": "python",
   "name": "python3"
  },
  "language_info": {
   "codemirror_mode": {
    "name": "ipython",
    "version": 3
   },
   "file_extension": ".py",
   "mimetype": "text/x-python",
   "name": "python",
   "nbconvert_exporter": "python",
   "pygments_lexer": "ipython3",
   "version": "3.10.3"
  },
  "orig_nbformat": 4
 },
 "nbformat": 4,
 "nbformat_minor": 2
}

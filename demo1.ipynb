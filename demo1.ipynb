{
 "cells": [
  {
   "cell_type": "code",
   "execution_count": 2,
   "metadata": {},
   "outputs": [
    {
     "name": "stdout",
     "output_type": "stream",
     "text": [
      "the complex number square root value of (2+5j) is (1.921609326467597+1.3009928530039094j)\n"
     ]
    }
   ],
   "source": [
    " import cmath\n",
    " c=2+5j\n",
    " d=cmath.sqrt(c)\n",
    " print('the complex number square root value of {0} is {1}'.format(c,d))"
   ]
  },
  {
   "cell_type": "code",
   "execution_count": 1,
   "metadata": {},
   "outputs": [
    {
     "ename": "TypeError",
     "evalue": "must be real number, not complex",
     "output_type": "error",
     "traceback": [
      "\u001b[1;31m---------------------------------------------------------------------------\u001b[0m",
      "\u001b[1;31mTypeError\u001b[0m                                 Traceback (most recent call last)",
      "\u001b[1;32me:\\New volume\\python\\demo1.ipynb Cell 2'\u001b[0m in \u001b[0;36m<cell line: 6>\u001b[1;34m()\u001b[0m\n\u001b[0;32m      <a href='vscode-notebook-cell:/e%3A/New%20volume/python/demo1.ipynb#ch0000001?line=3'>4</a>\u001b[0m s\u001b[39m=\u001b[39m\u001b[39mfloat\u001b[39m(a\u001b[39m+\u001b[39mb\u001b[39m+\u001b[39mc)\u001b[39m/\u001b[39m\u001b[39m2\u001b[39m\n\u001b[0;32m      <a href='vscode-notebook-cell:/e%3A/New%20volume/python/demo1.ipynb#ch0000001?line=4'>5</a>\u001b[0m area\u001b[39m=\u001b[39m(s\u001b[39m*\u001b[39m(s\u001b[39m-\u001b[39ma)\u001b[39m*\u001b[39m(s\u001b[39m-\u001b[39mb)\u001b[39m*\u001b[39m(s\u001b[39m-\u001b[39mc))\u001b[39m*\u001b[39m\u001b[39m*\u001b[39m\u001b[39m0.5\u001b[39m\n\u001b[1;32m----> <a href='vscode-notebook-cell:/e%3A/New%20volume/python/demo1.ipynb#ch0000001?line=5'>6</a>\u001b[0m \u001b[39mprint\u001b[39m(\u001b[39m'\u001b[39;49m\u001b[39mthe area of triangle is \u001b[39;49m\u001b[39m%0.2f\u001b[39;49;00m\u001b[39m \u001b[39;49m\u001b[39m'\u001b[39;49m\u001b[39m%\u001b[39;49marea)\n",
      "\u001b[1;31mTypeError\u001b[0m: must be real number, not complex"
     ]
    }
   ],
   "source": [
    "a=int(input('enter the 1st side:'))\n",
    "b=int(input('enter the 2st side:'))\n",
    "c=int(input('enter the 3st side:'))\n",
    "s=float(a+b+c)/2\n",
    "area=(s*(s-a)*(s-b)*(s-c))**0.5\n",
    "print('the area of triangle is %0.2f '%area)"
   ]
  },
  {
   "cell_type": "code",
   "execution_count": 2,
   "metadata": {},
   "outputs": [
    {
     "ename": "TypeError",
     "evalue": "'str' object cannot be interpreted as an integer",
     "output_type": "error",
     "traceback": [
      "\u001b[1;31m---------------------------------------------------------------------------\u001b[0m",
      "\u001b[1;31mTypeError\u001b[0m                                 Traceback (most recent call last)",
      "\u001b[1;32me:\\New volume\\python\\demo1.ipynb Cell 3'\u001b[0m in \u001b[0;36m<cell line: 4>\u001b[1;34m()\u001b[0m\n\u001b[0;32m      <a href='vscode-notebook-cell:/e%3A/New%20volume/python/demo1.ipynb#ch0000002?line=1'>2</a>\u001b[0m \u001b[39mlen\u001b[39m\u001b[39m=\u001b[39m\u001b[39mlen\u001b[39m(a)\n\u001b[0;32m      <a href='vscode-notebook-cell:/e%3A/New%20volume/python/demo1.ipynb#ch0000002?line=2'>3</a>\u001b[0m x\u001b[39m=\u001b[39m\u001b[39m1\u001b[39m\n\u001b[1;32m----> <a href='vscode-notebook-cell:/e%3A/New%20volume/python/demo1.ipynb#ch0000002?line=3'>4</a>\u001b[0m \u001b[39mfor\u001b[39;00m i \u001b[39min\u001b[39;00m \u001b[39mrange\u001b[39;49m ( a):\n\u001b[0;32m      <a href='vscode-notebook-cell:/e%3A/New%20volume/python/demo1.ipynb#ch0000002?line=4'>5</a>\u001b[0m     x\u001b[39m=\u001b[39mx\u001b[39m+\u001b[39m\u001b[39m1\u001b[39m\n\u001b[0;32m      <a href='vscode-notebook-cell:/e%3A/New%20volume/python/demo1.ipynb#ch0000002?line=5'>6</a>\u001b[0m     \u001b[39mprint\u001b[39m(a[x])\n",
      "\u001b[1;31mTypeError\u001b[0m: 'str' object cannot be interpreted as an integer"
     ]
    }
   ],
   "source": [
    "a=input (\"my name\")\n",
    "len=len(a)\n",
    "x=1\n",
    "for i in range ( a):\n",
    "    x=x+1\n",
    "    print(a[x])\n"
   ]
  }
 ],
 "metadata": {
  "interpreter": {
   "hash": "695a388a4c2e020e22268ccf38be8173707e8975f5964aead99e22ad28ea09a9"
  },
  "kernelspec": {
   "display_name": "Python 3.10.3 64-bit",
   "language": "python",
   "name": "python3"
  },
  "language_info": {
   "codemirror_mode": {
    "name": "ipython",
    "version": 3
   },
   "file_extension": ".py",
   "mimetype": "text/x-python",
   "name": "python",
   "nbconvert_exporter": "python",
   "pygments_lexer": "ipython3",
   "version": "3.10.3"
  },
  "orig_nbformat": 4
 },
 "nbformat": 4,
 "nbformat_minor": 2
}

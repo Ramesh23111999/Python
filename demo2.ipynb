{
 "cells": [
  {
   "cell_type": "markdown",
   "metadata": {},
   "source": [
    "Operatores:"
   ]
  },
  {
   "cell_type": "code",
   "execution_count": 114,
   "metadata": {},
   "outputs": [
    {
     "name": "stdout",
     "output_type": "stream",
     "text": [
      "addition = 43\n",
      "subraction = 27\n",
      "multiplication = 280\n",
      "divition = 4.375\n",
      "modulus = 3\n",
      "Exponentiation = 125\n",
      "floor division = 1\n"
     ]
    }
   ],
   "source": [
    "#Arithmetic\n",
    "a=35\n",
    "b=8\n",
    "sum=a+b\n",
    "sub=a-b\n",
    "mul=a*b\n",
    "div=a/b\n",
    "mod=a%b\n",
    "c=5\n",
    "d=3\n",
    "expo=c**d\n",
    "floorDiv=c//d\n",
    "print(\"addition =\",sum)\n",
    "print(\"subraction =\",sub)\n",
    "print(\"multiplication =\",mul)\n",
    "print(\"divition =\",div)\n",
    "print(\"modulus =\",mod)\n",
    "print(\"Exponentiation =\",expo)\n",
    "print(\"floor division =\",floorDiv)\n"
   ]
  },
  {
   "cell_type": "code",
   "execution_count": 115,
   "metadata": {},
   "outputs": [
    {
     "name": "stdout",
     "output_type": "stream",
     "text": [
      "increament = 13\n",
      "decreament = 10\n",
      "(c*=4) = 12\n",
      "(d /=) = 4.0\n",
      "(e %= 2) = 1\n",
      "(f**2) = 100\n",
      "(g //=2) = 5\n",
      "(h &= 3) = 2\n",
      "(i |= 5) = 15\n",
      "(j^=7) = 8\n",
      "(k>>=2) = 5\n",
      "(l<<=2) = 80\n"
     ]
    }
   ],
   "source": [
    "#Assignment Operators\n",
    "a=10\n",
    "a += 3\n",
    "print(\"increament =\",a)\n",
    "b=15\n",
    "b-=5\n",
    "print(\"decreament =\",b)\n",
    "c=3\n",
    "c *=4\n",
    "print(\"(c*=4) =\",c)\n",
    "d=8\n",
    "d /=2\n",
    "print(\"(d /=) =\",d)\n",
    "e=5\n",
    "e %=2\n",
    "print(\"(e %= 2) =\",e)\n",
    "f=10\n",
    "f **=2\n",
    "print(\"(f**2) =\",f)\n",
    "g=10\n",
    "g //=2\n",
    "print(\"(g //=2) =\",g)\n",
    "h=10\n",
    "h &=3\n",
    "print(\"(h &= 3) =\",h)\n",
    "i=10\n",
    "i |=5\n",
    "print(\"(i |= 5) =\",i)\n",
    "j=15\n",
    "j ^=7\n",
    "print(\"(j^=7) =\",j)\n",
    "k=20\n",
    "k>>=2\n",
    "print(\"(k>>=2) =\",k)\n",
    "l=20\n",
    "l<<=2\n",
    "print(\"(l<<=2) =\",l)\n",
    "\n",
    "\n",
    "\n",
    "\n"
   ]
  },
  {
   "cell_type": "code",
   "execution_count": 116,
   "metadata": {},
   "outputs": [
    {
     "name": "stdout",
     "output_type": "stream",
     "text": [
      "False\n",
      "True\n",
      "True\n",
      "False\n",
      "True\n",
      "False\n"
     ]
    }
   ],
   "source": [
    "#Comparison Operator\n",
    "a=5\n",
    "b=6\n",
    "print(a==b)\n",
    "print(a!=b)\n",
    "print(a<b)\n",
    "print(a>b)\n",
    "print(a<=b)\n",
    "print(a>=b)\n"
   ]
  },
  {
   "cell_type": "code",
   "execution_count": 117,
   "metadata": {},
   "outputs": [
    {
     "name": "stdout",
     "output_type": "stream",
     "text": [
      "False\n",
      "True\n",
      "True\n",
      "False\n"
     ]
    }
   ],
   "source": [
    "#logical Operator\n",
    "a=10\n",
    "b=5\n",
    "print(a<10 and b>10)\n",
    "print(a<=10 or b>10)\n",
    "print(not(a<10 and b>10))\n",
    "print(not(a<=10 or b>10))"
   ]
  },
  {
   "cell_type": "code",
   "execution_count": 118,
   "metadata": {},
   "outputs": [],
   "source": [
    "#identity Operator\n"
   ]
  },
  {
   "cell_type": "code",
   "execution_count": 122,
   "metadata": {},
   "outputs": [
    {
     "name": "stdout",
     "output_type": "stream",
     "text": [
      "0\n",
      "1\n",
      "2\n",
      "3\n",
      "4\n",
      "5\n",
      "6\n",
      "7\n",
      "8\n",
      "9\n"
     ]
    }
   ],
   "source": [
    "#Range\n",
    "for b in range(10):\n",
    "    print(b)\n",
    "    "
   ]
  },
  {
   "cell_type": "code",
   "execution_count": 119,
   "metadata": {},
   "outputs": [
    {
     "name": "stdout",
     "output_type": "stream",
     "text": [
      "50\n",
      "40\n",
      "30\n",
      "20\n"
     ]
    }
   ],
   "source": [
    "\n",
    "for a in range(50,10,-10):\n",
    "    print(a)\n"
   ]
  },
  {
   "cell_type": "code",
   "execution_count": 120,
   "metadata": {},
   "outputs": [
    {
     "name": "stdout",
     "output_type": "stream",
     "text": [
      "10\n",
      "11\n",
      "12\n",
      "13\n",
      "14\n"
     ]
    }
   ],
   "source": [
    "for a in range(10,15):\n",
    "    print(a)"
   ]
  },
  {
   "cell_type": "code",
   "execution_count": 4,
   "metadata": {},
   "outputs": [
    {
     "name": "stdout",
     "output_type": "stream",
     "text": [
      "False\n",
      "True\n"
     ]
    }
   ],
   "source": [
    "#Identity Operator\n",
    "a=50\n",
    "b=70\n",
    "c=a\n",
    "print(a is b)\n",
    "print(a is c is not b)"
   ]
  },
  {
   "cell_type": "code",
   "execution_count": 8,
   "metadata": {},
   "outputs": [
    {
     "name": "stdout",
     "output_type": "stream",
     "text": [
      "True\n",
      "True\n"
     ]
    }
   ],
   "source": [
    "#Membership Operator\n",
    "a=[1,2,3]\n",
    "print(2 in a)\n",
    "print(10 not in a and 3 in a)"
   ]
  },
  {
   "cell_type": "markdown",
   "metadata": {},
   "source": []
  }
 ],
 "metadata": {
  "interpreter": {
   "hash": "695a388a4c2e020e22268ccf38be8173707e8975f5964aead99e22ad28ea09a9"
  },
  "kernelspec": {
   "display_name": "Python 3.10.3 64-bit",
   "language": "python",
   "name": "python3"
  },
  "language_info": {
   "codemirror_mode": {
    "name": "ipython",
    "version": 3
   },
   "file_extension": ".py",
   "mimetype": "text/x-python",
   "name": "python",
   "nbconvert_exporter": "python",
   "pygments_lexer": "ipython3",
   "version": "3.10.3"
  },
  "orig_nbformat": 4
 },
 "nbformat": 4,
 "nbformat_minor": 2
}
